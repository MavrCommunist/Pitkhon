{
 "cells": [
  {
   "cell_type": "code",
   "execution_count": 4,
   "id": "d317eae9",
   "metadata": {},
   "outputs": [
    {
     "name": "stdout",
     "output_type": "stream",
     "text": [
      "False True True 0 1 0.0 1.0 False True False True\n"
     ]
    }
   ],
   "source": [
    "print(bool(0), bool(1), bool(5), int(False), int(True), float(False), float(True), bool(''), bool('a'), str(False), str(True))"
   ]
  },
  {
   "cell_type": "code",
   "execution_count": 7,
   "id": "695d8e11",
   "metadata": {},
   "outputs": [
    {
     "name": "stdout",
     "output_type": "stream",
     "text": [
      "['кошка', ' собака', ' хомяк', ' свин']\n",
      "[2, 4, 5, 7, 8]\n",
      "[4, 5, 7, 8, 10, 3]\n",
      "[8, 10, 3, -5]\n",
      "[4, 5, 7, 8, 10, 3, -5, 's']\n",
      "[1, 2, 4, 5, 7, 8, 10, 3]\n",
      "[4, 7, 10, -5]\n",
      "[10, 7]\n"
     ]
    }
   ],
   "source": [
    "animals = 'кошка, собака, хомяк, свин'.split(',')\n",
    "print(animals)\n",
    "nums = [1, 2, 4, 5, 7, 8, 10, 3, -5, 's']\n",
    "\n",
    "# срезы\n",
    "print(nums[1:6])\n",
    "print(nums[2:-2])\n",
    "print(nums[-5:-1])\n",
    "\n",
    "print(nums[2:])\n",
    "print(nums[:-2])\n",
    "\n",
    "print(nums[2::2])\n",
    "print(nums[6:2:-2])"
   ]
  },
  {
   "cell_type": "code",
   "execution_count": 31,
   "id": "f656b491",
   "metadata": {},
   "outputs": [
    {
     "name": "stdout",
     "output_type": "stream",
     "text": [
      "['10_ab', '1_a', '2_b']\n"
     ]
    },
    {
     "data": {
      "text/plain": [
       "'2_b'"
      ]
     },
     "execution_count": 31,
     "metadata": {},
     "output_type": "execute_result"
    }
   ],
   "source": [
    "list1 = ['1_a', '2_b', '10_ab']\n",
    "list1.sort(reverse = False)\n",
    "print(list1)\n",
    "max(list1)"
   ]
  },
  {
   "cell_type": "code",
   "execution_count": 35,
   "id": "32a3900b",
   "metadata": {},
   "outputs": [
    {
     "name": "stdout",
     "output_type": "stream",
     "text": [
      "[1, 2, 3, 4, 6, 7, 8, 9, 11, 12, 13, 14, 16, 17, 18, 19, 21, 22, 23, 24]\n"
     ]
    }
   ],
   "source": [
    "wow = [x for x in range(0, 25) if x % 5 != 0] #генератор списка\n",
    "print(wow)"
   ]
  },
  {
   "cell_type": "code",
   "execution_count": 41,
   "id": "d039449e",
   "metadata": {
    "scrolled": false
   },
   "outputs": [
    {
     "name": "stdout",
     "output_type": "stream",
     "text": [
      "Нежного пробуждения\n",
      "Яшперица\n",
      "Биба\n",
      "ne fren Роберт\n"
     ]
    }
   ],
   "source": [
    "frens = {'Миша': \"Нежного пробуждения\", \"Даша\": \"Яшперица\", \"Ссаня\": \"Биба\"}\n",
    "\n",
    "chels_list = [\"Миша\", \"Даша\", \"Ссаня\", \"Роберт\"]\n",
    "for name in chels_list:\n",
    "    if name in frens:\n",
    "        print(frens[name])\n",
    "    else:\n",
    "        print(\"ne fren \" + name)"
   ]
  },
  {
   "cell_type": "code",
   "execution_count": 2,
   "id": "b13f17e4",
   "metadata": {},
   "outputs": [
    {
     "name": "stdout",
     "output_type": "stream",
     "text": [
      "12\n"
     ]
    }
   ],
   "source": [
    "m = 1\n",
    "y = 0\n",
    "k = 1.06\n",
    "while m < 2:\n",
    "    m = m * k\n",
    "    y = y + 1\n",
    "print(y)"
   ]
  },
  {
   "cell_type": "code",
   "execution_count": 3,
   "id": "e6e5dd5b",
   "metadata": {},
   "outputs": [
    {
     "name": "stdout",
     "output_type": "stream",
     "text": [
      "370\n"
     ]
    }
   ],
   "source": [
    "c = 5\n",
    "for i in range(1, 366):\n",
    "    c = c + 1\n",
    "else:\n",
    "    print(c)"
   ]
  },
  {
   "cell_type": "code",
   "execution_count": 5,
   "id": "789e9a6c",
   "metadata": {},
   "outputs": [
    {
     "name": "stdout",
     "output_type": "stream",
     "text": [
      "i =  0\n",
      "i =  1\n",
      "i =  2\n",
      "end\n",
      "1\n",
      "3\n",
      "5\n",
      "7\n",
      "9\n"
     ]
    }
   ],
   "source": [
    "#break\n",
    "for i in range(3):\n",
    "    if i == 3:\n",
    "        break\n",
    "    print(\"i = \", i)\n",
    "print(\"end\")\n",
    "\n",
    "#continue\n",
    "for i in range(10):\n",
    "    if i % 2 == 0:\n",
    "        continue\n",
    "    print(i)"
   ]
  },
  {
   "cell_type": "code",
   "execution_count": 13,
   "id": "9a643d48",
   "metadata": {},
   "outputs": [
    {
     "name": "stdout",
     "output_type": "stream",
     "text": [
      "20 len:20 ind:0\n",
      "19 len:20 ind:1\n",
      "18 len:20 ind:2\n",
      "19 len:20 ind:1\n",
      "19 len:20 ind:1\n",
      "19 len:20 ind:1\n",
      "19 len:20 ind:1\n",
      "13 len:20 ind:7\n",
      "13 len:20 ind:7\n",
      "13 len:20 ind:7\n",
      "10 len:20 ind:10\n",
      "9 len:20 ind:11\n",
      "8 len:20 ind:12\n",
      "8 len:20 ind:12\n",
      "8 len:20 ind:12\n",
      "8 len:20 ind:12\n",
      "8 len:20 ind:12\n",
      "8 len:20 ind:12\n",
      "8 len:20 ind:12\n",
      "8 len:20 ind:12\n"
     ]
    }
   ],
   "source": [
    "# string.find(s, sub[, start[, end]])!!!стоит запомнить!!!\n",
    "# string, list, dict etc. are iterable objects\n",
    "word = \"ZAWAAAARRRUDOOOOOOOO\"\n",
    "for letter in word:\n",
    "    #...\n",
    "    pass\n"
   ]
  },
  {
   "cell_type": "code",
   "execution_count": 16,
   "id": "0c1e07b5",
   "metadata": {},
   "outputs": [
    {
     "data": {
      "text/plain": [
       "'mail.ru'"
      ]
     },
     "execution_count": 16,
     "metadata": {},
     "output_type": "execute_result"
    }
   ],
   "source": [
    "mail = \"Bavel@mail.ru\"\n",
    "pos = mail.find('@')\n",
    "domain = mail[pos+1:]\n",
    "domain"
   ]
  },
  {
   "cell_type": "code",
   "execution_count": 39,
   "id": "fe9b924d",
   "metadata": {},
   "outputs": [
    {
     "data": {
      "text/plain": [
       "'Тяжёлая интернет:)зависимость :) это когда ты выходишь из интернета:) а он из тебя нет:)'"
      ]
     },
     "execution_count": 39,
     "metadata": {},
     "output_type": "execute_result"
    }
   ],
   "source": [
    "signs = \".,:-!?\"\n",
    "inp = \"Тяжёлая интернет-зависимость - это когда ты выходишь из интернета, а он из тебя нет.\"\n",
    "for let in inp:\n",
    "    if let in signs:\n",
    "        inp = inp.replace(let, ':)')\n",
    "    \n",
    "inp"
   ]
  },
  {
   "cell_type": "code",
   "execution_count": null,
   "id": "316e0fb2",
   "metadata": {},
   "outputs": [],
   "source": []
  },
  {
   "cell_type": "code",
   "execution_count": null,
   "id": "78b83900",
   "metadata": {},
   "outputs": [],
   "source": []
  }
 ],
 "metadata": {
  "kernelspec": {
   "display_name": "Python 3",
   "language": "python",
   "name": "python3"
  },
  "language_info": {
   "codemirror_mode": {
    "name": "ipython",
    "version": 3
   },
   "file_extension": ".py",
   "mimetype": "text/x-python",
   "name": "python",
   "nbconvert_exporter": "python",
   "pygments_lexer": "ipython3",
   "version": "3.8.8"
  }
 },
 "nbformat": 4,
 "nbformat_minor": 5
}
